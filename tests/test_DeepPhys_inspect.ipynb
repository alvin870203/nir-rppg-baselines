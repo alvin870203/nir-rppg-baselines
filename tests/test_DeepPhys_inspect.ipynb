{
 "cells": [
  {
   "cell_type": "markdown",
   "metadata": {},
   "source": [
    "# Inspect DeepPhys Models & Pre-Trained Checkpoints by Different Authors"
   ]
  },
  {
   "cell_type": "code",
   "execution_count": 1,
   "metadata": {},
   "outputs": [],
   "source": [
    "import torch\n",
    "import torch.nn as nn\n",
    "import torch.nn.functional as F\n",
    "from torchinfo import summary\n",
    "import sys\n",
    "sys.path.append('../')\n",
    "from torch.utils.tensorboard import SummaryWriter"
   ]
  },
  {
   "cell_type": "markdown",
   "metadata": {},
   "source": [
    "## Implementation by terbed/Deep-rPPG"
   ]
  },
  {
   "cell_type": "code",
   "execution_count": 7,
   "metadata": {},
   "outputs": [
    {
     "name": "stdout",
     "output_type": "stream",
     "text": [
      "==============================================================================================================================================================================================\n",
      "Layer (type (var_name):depth-idx)        Input Shape               Output Shape              Param #                   Kernel Shape              Mult-Adds                 Trainable\n",
      "==============================================================================================================================================================================================\n",
      "DeepPhys (DeepPhys)                      [1, 2, 1, 36, 36]         [1, 1]                    --                        --                        --                        True\n",
      "├─Conv2d (a_conv1): 1-1                  [1, 1, 36, 36]            [1, 32, 36, 36]           320                       [3, 3]                    414,720                   True\n",
      "│    └─weight                                                                                ├─288                     [1, 32, 3, 3]\n",
      "│    └─bias                                                                                  └─32                      [32]\n",
      "├─BatchNorm2d (a_bn1): 1-2               [1, 32, 36, 36]           [1, 32, 36, 36]           64                        --                        64                        True\n",
      "│    └─weight                                                                                ├─32                      [32]\n",
      "│    └─bias                                                                                  └─32                      [32]\n",
      "├─Conv2d (a_conv2): 1-3                  [1, 32, 36, 36]           [1, 32, 36, 36]           9,248                     [3, 3]                    11,985,408                True\n",
      "│    └─weight                                                                                ├─9,216                   [32, 32, 3, 3]\n",
      "│    └─bias                                                                                  └─32                      [32]\n",
      "├─BatchNorm2d (a_bn2): 1-4               [1, 32, 36, 36]           [1, 32, 36, 36]           64                        --                        64                        True\n",
      "│    └─weight                                                                                ├─32                      [32]\n",
      "│    └─bias                                                                                  └─32                      [32]\n",
      "├─Dropout2d (a_d1): 1-5                  [1, 32, 36, 36]           [1, 32, 36, 36]           --                        --                        --                        --\n",
      "├─Conv2d (a_softconv1): 1-6              [1, 32, 36, 36]           [1, 1, 36, 36]            33                        [1, 1]                    42,768                    True\n",
      "│    └─weight                                                                                ├─32                      [32, 1, 1, 1]\n",
      "│    └─bias                                                                                  └─1                       [1]\n",
      "├─AvgPool2d (a_avgpool): 1-7             [1, 32, 36, 36]           [1, 32, 18, 18]           --                        2                         --                        --\n",
      "├─Conv2d (a_conv3): 1-8                  [1, 32, 18, 18]           [1, 64, 18, 18]           18,496                    [3, 3]                    5,992,704                 True\n",
      "│    └─weight                                                                                ├─18,432                  [32, 64, 3, 3]\n",
      "│    └─bias                                                                                  └─64                      [64]\n",
      "├─BatchNorm2d (a_bn3): 1-9               [1, 64, 18, 18]           [1, 64, 18, 18]           128                       --                        128                       True\n",
      "│    └─weight                                                                                ├─64                      [64]\n",
      "│    └─bias                                                                                  └─64                      [64]\n",
      "├─Conv2d (a_conv4): 1-10                 [1, 64, 18, 18]           [1, 64, 18, 18]           36,928                    [3, 3]                    11,964,672                True\n",
      "│    └─weight                                                                                ├─36,864                  [64, 64, 3, 3]\n",
      "│    └─bias                                                                                  └─64                      [64]\n",
      "├─BatchNorm2d (a_bn4): 1-11              [1, 64, 18, 18]           [1, 64, 18, 18]           128                       --                        128                       True\n",
      "│    └─weight                                                                                ├─64                      [64]\n",
      "│    └─bias                                                                                  └─64                      [64]\n",
      "├─Dropout2d (a_d2): 1-12                 [1, 64, 18, 18]           [1, 64, 18, 18]           --                        --                        --                        --\n",
      "├─Conv2d (a_softconv2): 1-13             [1, 64, 18, 18]           [1, 1, 18, 18]            65                        [1, 1]                    21,060                    True\n",
      "│    └─weight                                                                                ├─64                      [64, 1, 1, 1]\n",
      "│    └─bias                                                                                  └─1                       [1]\n",
      "├─Conv2d (m_conv1): 1-14                 [1, 1, 36, 36]            [1, 32, 36, 36]           320                       [3, 3]                    414,720                   True\n",
      "│    └─weight                                                                                ├─288                     [1, 32, 3, 3]\n",
      "│    └─bias                                                                                  └─32                      [32]\n",
      "├─BatchNorm2d (m_bn1): 1-15              [1, 32, 36, 36]           [1, 32, 36, 36]           64                        --                        64                        True\n",
      "│    └─weight                                                                                ├─32                      [32]\n",
      "│    └─bias                                                                                  └─32                      [32]\n",
      "├─Conv2d (m_conv2): 1-16                 [1, 32, 36, 36]           [1, 32, 36, 36]           9,248                     [3, 3]                    11,985,408                True\n",
      "│    └─weight                                                                                ├─9,216                   [32, 32, 3, 3]\n",
      "│    └─bias                                                                                  └─32                      [32]\n",
      "├─BatchNorm2d (m_bn2): 1-17              [1, 32, 36, 36]           [1, 32, 36, 36]           64                        --                        64                        True\n",
      "│    └─weight                                                                                ├─32                      [32]\n",
      "│    └─bias                                                                                  └─32                      [32]\n",
      "├─Dropout2d (d1): 1-18                   [1, 32, 36, 36]           [1, 32, 36, 36]           --                        --                        --                        --\n",
      "├─AvgPool2d (m_avgpool1): 1-19           [1, 32, 36, 36]           [1, 32, 18, 18]           --                        2                         --                        --\n",
      "├─Conv2d (m_conv3): 1-20                 [1, 32, 18, 18]           [1, 64, 18, 18]           18,496                    [3, 3]                    5,992,704                 True\n",
      "│    └─weight                                                                                ├─18,432                  [32, 64, 3, 3]\n",
      "│    └─bias                                                                                  └─64                      [64]\n",
      "├─BatchNorm2d (m_bn3): 1-21              [1, 64, 18, 18]           [1, 64, 18, 18]           128                       --                        128                       True\n",
      "│    └─weight                                                                                ├─64                      [64]\n",
      "│    └─bias                                                                                  └─64                      [64]\n",
      "├─Conv2d (m_conv4): 1-22                 [1, 64, 18, 18]           [1, 64, 18, 18]           36,928                    [3, 3]                    11,964,672                True\n",
      "│    └─weight                                                                                ├─36,864                  [64, 64, 3, 3]\n",
      "│    └─bias                                                                                  └─64                      [64]\n",
      "├─BatchNorm2d (m_bn4): 1-23              [1, 64, 18, 18]           [1, 64, 18, 18]           128                       --                        128                       True\n",
      "│    └─weight                                                                                ├─64                      [64]\n",
      "│    └─bias                                                                                  └─64                      [64]\n",
      "├─Dropout2d (d2): 1-24                   [1, 64, 18, 18]           [1, 64, 18, 18]           --                        --                        --                        --\n",
      "├─AvgPool2d (m_avgpool2): 1-25           [1, 64, 18, 18]           [1, 64, 9, 9]             --                        2                         --                        --\n",
      "├─Dropout (d3): 1-26                     [1, 5184]                 [1, 5184]                 --                        --                        --                        --\n",
      "├─Linear (fully1): 1-27                  [1, 5184]                 [1, 128]                  663,680                   --                        663,680                   True\n",
      "│    └─weight                                                                                ├─663,552                 [5184, 128]\n",
      "│    └─bias                                                                                  └─128                     [128]\n",
      "├─Linear (fully2): 1-28                  [1, 128]                  [1, 1]                    129                       --                        129                       True\n",
      "│    └─weight                                                                                ├─128                     [128, 1]\n",
      "│    └─bias                                                                                  └─1                       [1]\n",
      "==============================================================================================================================================================================================\n",
      "Total params: 794,659\n",
      "Trainable params: 794,659\n",
      "Non-trainable params: 0\n",
      "Total mult-adds (M): 61.44\n",
      "==============================================================================================================================================================================================\n",
      "Input size (MB): 0.01\n",
      "Forward/backward pass size (MB): 4.00\n",
      "Params size (MB): 3.18\n",
      "Estimated Total Size (MB): 7.18\n",
      "==============================================================================================================================================================================================\n"
     ]
    }
   ],
   "source": [
    "from models.DeepPhys import DeepPhysConfig, DeepPhys\n",
    "\n",
    "img_h, img_w = 36, 36\n",
    "model_args = dict(\n",
    "    img_h=img_h,\n",
    "    img_w=img_w,\n",
    "    out_dim=1,\n",
    "    bias=True,\n",
    "    dropout=0.50,\n",
    "    nir_imgs_mean=0.0,\n",
    "    nir_imgs_std=1.0,\n",
    "    rppg_labels_diff_std=6.969092845916748\n",
    ")\n",
    "\n",
    "model_config = DeepPhysConfig(**model_args)\n",
    "model = DeepPhys(model_config)\n",
    "\n",
    "batch_size = 1\n",
    "summary(model, input_size=[(batch_size, 2, 1, img_h, img_w), (batch_size, 2, 1)], device='cpu',\n",
    "        col_names=(\"input_size\", \"output_size\", \"num_params\", \"kernel_size\", \"mult_adds\", \"trainable\"), verbose=2,\n",
    "        depth=4, row_settings=(\"depth\", \"var_names\"));"
   ]
  },
  {
   "cell_type": "code",
   "execution_count": 4,
   "metadata": {},
   "outputs": [],
   "source": [
    "writer = SummaryWriter()\n",
    "nir_imgs = torch.randn(batch_size, 2, 1, img_h, img_w)\n",
    "rppg_labels = torch.randn(batch_size, 2, 1)\n",
    "writer.add_graph(model, [nir_imgs, rppg_labels])\n",
    "writer.close()"
   ]
  }
 ],
 "metadata": {
  "kernelspec": {
   "display_name": "nir-rppg-benchmarks",
   "language": "python",
   "name": "python3"
  },
  "language_info": {
   "codemirror_mode": {
    "name": "ipython",
    "version": 3
   },
   "file_extension": ".py",
   "mimetype": "text/x-python",
   "name": "python",
   "nbconvert_exporter": "python",
   "pygments_lexer": "ipython3",
   "version": "3.10.13"
  }
 },
 "nbformat": 4,
 "nbformat_minor": 2
}
